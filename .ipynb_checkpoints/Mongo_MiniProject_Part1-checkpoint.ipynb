{
 "cells": [
  {
   "cell_type": "markdown",
   "id": "35f70af6",
   "metadata": {},
   "source": [
    "# Met Animals"
   ]
  },
  {
   "cell_type": "markdown",
   "id": "afdb3393",
   "metadata": {},
   "source": [
    "## Part 1: Connect to the Database"
   ]
  },
  {
   "cell_type": "code",
   "execution_count": 18,
   "id": "da97f222",
   "metadata": {},
   "outputs": [],
   "source": [
    "# Import dependencies\n",
    "from pymongo import MongoClient\n",
    "import json\n",
    "import requests \n",
    "from pprint import pprint"
   ]
  },
  {
   "cell_type": "code",
   "execution_count": 19,
   "id": "d19aecae",
   "metadata": {},
   "outputs": [],
   "source": [
    "# Create an instance of MongoClient\n",
    "mongo = MongoClient(port=27017)"
   ]
  },
  {
   "cell_type": "code",
   "execution_count": 20,
   "id": "5d0b4ce0",
   "metadata": {},
   "outputs": [
    {
     "data": {
      "text/plain": [
       "['Uk_food',\n",
       " 'admin',\n",
       " 'autosaurus',\n",
       " 'classDB',\n",
       " 'config',\n",
       " 'epa',\n",
       " 'fruits_db',\n",
       " 'local',\n",
       " 'met',\n",
       " 'petsitly_marketing',\n",
       " 'travel_db']"
      ]
     },
     "execution_count": 20,
     "metadata": {},
     "output_type": "execute_result"
    }
   ],
   "source": [
    "mongo.list_database_names()"
   ]
  },
  {
   "cell_type": "code",
   "execution_count": 21,
   "id": "7c98aca6",
   "metadata": {},
   "outputs": [],
   "source": [
    "# assign the met database to a variable name\n",
    "met = mongo['met']"
   ]
  },
  {
   "cell_type": "code",
   "execution_count": 22,
   "id": "d1be4c78",
   "metadata": {},
   "outputs": [
    {
     "data": {
      "text/plain": [
       "['artifacts']"
      ]
     },
     "execution_count": 22,
     "metadata": {},
     "output_type": "execute_result"
    }
   ],
   "source": [
    "met.list_collection_names()"
   ]
  },
  {
   "cell_type": "code",
   "execution_count": 23,
   "id": "9b1018e1",
   "metadata": {},
   "outputs": [],
   "source": [
    "# assign the collection to a variable\n",
    "artifacts=met['artifacts']"
   ]
  },
  {
   "cell_type": "markdown",
   "id": "03e9a37c",
   "metadata": {},
   "source": [
    "## Part 2: Collect the Data"
   ]
  },
  {
   "cell_type": "code",
   "execution_count": 24,
   "id": "ef9b2170",
   "metadata": {},
   "outputs": [
    {
     "name": "stdout",
     "output_type": "stream",
     "text": [
      "Number of IDs: 38\n",
      "Length of returned collection artifacts: 38\n"
     ]
    }
   ],
   "source": [
    "# Artifacts from department 5 and search string \"cave\"\n",
    "# https://collectionapi.metmuseum.org/public/collection/v1/search?departmentId=5&q=cave\n",
    "cave_ids = [313726,313724,312602,310364,318345,313256,310542,313240,310551,314557,310384,317901,317902,318730,310343,309557,307443,312268,778892,317619,312595,312915,317697,313325,310480,310644,309404,314142,317121,317120,316299,317430,317429,313151,317760,309960,313262,314217]\n",
    "\n",
    "# Print the number of IDs\n",
    "print(f'Number of IDs: {len(cave_ids)}')\n",
    "\n",
    "# Initialize a list to store the returned documents\n",
    "returned_data_list = []\n",
    "\n",
    "# Create a loop to make API calls about each artifact we're interested in\n",
    "for i in range(len(cave_ids)):\n",
    "    # API URL\n",
    "    url = \"https://collectionapi.metmuseum.org/public/collection/v1/objects/\" + str(cave_ids[i])\n",
    "    \n",
    "    # Make the API request\n",
    "    response = requests.get(url)\n",
    "    \n",
    "    # Extract the json result\n",
    "    extract_json = response.json()\n",
    "    \n",
    "    # Add the returned json to the end of the list\n",
    "    returned_data_list.append(extract_json)\n",
    "\n",
    "# Print the length of the results to ensure it matches the cave_ids list length\n",
    "print(f'Length of returned collection artifacts: {len(returned_data_list)}')"
   ]
  },
  {
   "cell_type": "markdown",
   "id": "f80233c4",
   "metadata": {},
   "source": [
    "Now we have our list of additional artifacts we want to add to our database, but we need to check that these artifacts are not already in our collection before we add them"
   ]
  },
  {
   "cell_type": "markdown",
   "id": "2c14cae1",
   "metadata": {},
   "source": [
    "## Part 3: Update the Database"
   ]
  },
  {
   "cell_type": "code",
   "execution_count": 25,
   "id": "fc121baf",
   "metadata": {},
   "outputs": [
    {
     "name": "stdout",
     "output_type": "stream",
     "text": [
      "{'GalleryNumber': '',\n",
      " 'accessionNumber': '1979.206.1537',\n",
      " 'accessionYear': '1979',\n",
      " 'additionalImages': [],\n",
      " 'artistAlphaSort': '',\n",
      " 'artistBeginDate': '',\n",
      " 'artistDisplayBio': '',\n",
      " 'artistDisplayName': '',\n",
      " 'artistEndDate': '',\n",
      " 'artistGender': '',\n",
      " 'artistNationality': '',\n",
      " 'artistPrefix': '',\n",
      " 'artistRole': '',\n",
      " 'artistSuffix': '',\n",
      " 'artistULAN_URL': '',\n",
      " 'artistWikidata_URL': '',\n",
      " 'city': '',\n",
      " 'classification': 'Wood-Musical Instruments',\n",
      " 'constituents': None,\n",
      " 'country': 'Australia',\n",
      " 'county': '',\n",
      " 'creditLine': 'The Michael C. Rockefeller Memorial Collection, Bequest of '\n",
      "               'Nelson A. Rockefeller, 1979',\n",
      " 'culture': 'Mulga Downs Cave',\n",
      " 'department': 'The Michael C. Rockefeller Wing',\n",
      " 'dimensions': 'H. 20 x W.  2 3/4 x D. 5/16 in. (50.8 x 7 x 0.8 cm)',\n",
      " 'dynasty': '',\n",
      " 'excavation': '',\n",
      " 'geographyType': '',\n",
      " 'isHighlight': False,\n",
      " 'isPublicDomain': False,\n",
      " 'isTimelineWork': False,\n",
      " 'linkResource': '',\n",
      " 'locale': '',\n",
      " 'locus': '',\n",
      " 'measurements': [{'elementDescription': None,\n",
      "                   'elementMeasurements': {'Depth': 0.79,\n",
      "                                           'Height': 50.8,\n",
      "                                           'Width': 6.99},\n",
      "                   'elementName': 'Overall'}],\n",
      " 'medium': 'Wood',\n",
      " 'metadataDate': '2022-12-15T08:50:39.81Z',\n",
      " 'objectBeginDate': 1800,\n",
      " 'objectDate': '19th–early 20th century',\n",
      " 'objectEndDate': 2000,\n",
      " 'objectID': 313726,\n",
      " 'objectName': 'Bullroarer',\n",
      " 'objectURL': 'https://www.metmuseum.org/art/collection/search/313726',\n",
      " 'objectWikidata_URL': '',\n",
      " 'period': '',\n",
      " 'portfolio': '',\n",
      " 'primaryImage': '',\n",
      " 'primaryImageSmall': '',\n",
      " 'region': 'Western Desert',\n",
      " 'reign': '',\n",
      " 'repository': 'Metropolitan Museum of Art, New York, NY',\n",
      " 'rightsAndReproduction': '',\n",
      " 'river': '',\n",
      " 'state': 'Western Australia',\n",
      " 'subregion': '',\n",
      " 'tags': None,\n",
      " 'title': 'Bullroarer'}\n"
     ]
    }
   ],
   "source": [
    "# Choose just one item from our returned data and set it to a variable\n",
    "item_to_add = returned_data_list[0]\n",
    "\n",
    "# Pretty print item_to_add\n",
    "pprint(item_to_add)\n"
   ]
  },
  {
   "cell_type": "code",
   "execution_count": 26,
   "id": "68a889fe",
   "metadata": {},
   "outputs": [
    {
     "name": "stdout",
     "output_type": "stream",
     "text": [
      "None\n"
     ]
    }
   ],
   "source": [
    "# Check if objectID is already in collection\n",
    "query = {'objectID': 313726}\n",
    "result = artifacts.find_one(query)\n",
    "\n",
    "print(result)"
   ]
  },
  {
   "cell_type": "code",
   "execution_count": 27,
   "id": "d662ab10",
   "metadata": {},
   "outputs": [],
   "source": [
    "#why find_one is working not find.\n",
    "#we should use find beacuse to itterate throught out the database but find_one just will bring the one result\n",
    "#query = {'objectID': 313726}\n",
    "#result = artifacts.find(query)\n",
    "\n",
    "#for x in result:\n",
    "#    print(x)"
   ]
  },
  {
   "cell_type": "code",
   "execution_count": 28,
   "id": "8667c836",
   "metadata": {},
   "outputs": [
    {
     "name": "stdout",
     "output_type": "stream",
     "text": [
      "{'GalleryNumber': '',\n",
      " '_id': ObjectId('6429b6eed6310233c6233dca'),\n",
      " 'accessionNumber': '1979.206.1537',\n",
      " 'accessionYear': '1979',\n",
      " 'additionalImages': [],\n",
      " 'artistAlphaSort': '',\n",
      " 'artistBeginDate': '',\n",
      " 'artistDisplayBio': '',\n",
      " 'artistDisplayName': '',\n",
      " 'artistEndDate': '',\n",
      " 'artistGender': '',\n",
      " 'artistNationality': '',\n",
      " 'artistPrefix': '',\n",
      " 'artistRole': '',\n",
      " 'artistSuffix': '',\n",
      " 'artistULAN_URL': '',\n",
      " 'artistWikidata_URL': '',\n",
      " 'city': '',\n",
      " 'classification': 'Wood-Musical Instruments',\n",
      " 'constituents': None,\n",
      " 'country': 'Australia',\n",
      " 'county': '',\n",
      " 'creditLine': 'The Michael C. Rockefeller Memorial Collection, Bequest of '\n",
      "               'Nelson A. Rockefeller, 1979',\n",
      " 'culture': 'Mulga Downs Cave',\n",
      " 'department': 'The Michael C. Rockefeller Wing',\n",
      " 'dimensions': 'H. 20 x W.  2 3/4 x D. 5/16 in. (50.8 x 7 x 0.8 cm)',\n",
      " 'dynasty': '',\n",
      " 'excavation': '',\n",
      " 'geographyType': '',\n",
      " 'isHighlight': False,\n",
      " 'isPublicDomain': False,\n",
      " 'isTimelineWork': False,\n",
      " 'linkResource': '',\n",
      " 'locale': '',\n",
      " 'locus': '',\n",
      " 'measurements': [{'elementDescription': None,\n",
      "                   'elementMeasurements': {'Depth': 0.79,\n",
      "                                           'Height': 50.8,\n",
      "                                           'Width': 6.99},\n",
      "                   'elementName': 'Overall'}],\n",
      " 'medium': 'Wood',\n",
      " 'metadataDate': '2022-12-15T08:50:39.81Z',\n",
      " 'objectBeginDate': 1800,\n",
      " 'objectDate': '19th–early 20th century',\n",
      " 'objectEndDate': 2000,\n",
      " 'objectID': 313726,\n",
      " 'objectName': 'Bullroarer',\n",
      " 'objectURL': 'https://www.metmuseum.org/art/collection/search/313726',\n",
      " 'objectWikidata_URL': '',\n",
      " 'period': '',\n",
      " 'portfolio': '',\n",
      " 'primaryImage': '',\n",
      " 'primaryImageSmall': '',\n",
      " 'region': 'Western Desert',\n",
      " 'reign': '',\n",
      " 'repository': 'Metropolitan Museum of Art, New York, NY',\n",
      " 'rightsAndReproduction': '',\n",
      " 'river': '',\n",
      " 'state': 'Western Australia',\n",
      " 'subregion': '',\n",
      " 'tags': None,\n",
      " 'title': 'Bullroarer'}\n"
     ]
    }
   ],
   "source": [
    "# Check if objectID not found\n",
    "# Check that the new artifact was inserted\n",
    "    # Insert the new data into the collection\n",
    "artifacts.insert_one(item_to_add)\n",
    "    # Print objectID when inserted\n",
    "query2={'objectID': 313726}\n",
    "\n",
    "result2=artifacts.find_one(query2)\n",
    "pprint(result2)"
   ]
  },
  {
   "cell_type": "code",
   "execution_count": null,
   "id": "73e82ce1",
   "metadata": {},
   "outputs": [],
   "source": [
    "#for x in returned_data_list:\n",
    "#    if artifacts.find_one({'objectID':x['objectID']})==None:\n",
    "#        artifacts.insert_one(x)\n",
    "#        print(\"the floowing Id was not present and has succefully added\",x['objectID'])\n",
    "#    else:\n",
    "#        print(\"sorry the document is already there\")\n",
    "        "
   ]
  },
  {
   "cell_type": "code",
   "execution_count": 30,
   "id": "96324ccb",
   "metadata": {},
   "outputs": [
    {
     "name": "stdout",
     "output_type": "stream",
     "text": [
      "sorry the document is already there\n",
      "the floowing Id was not present and has succefully added 313724\n",
      "the floowing Id was not present and has succefully added 312602\n",
      "sorry the document is already there\n",
      "sorry the document is already there\n",
      "sorry the document is already there\n",
      "sorry the document is already there\n",
      "sorry the document is already there\n",
      "sorry the document is already there\n",
      "sorry the document is already there\n",
      "the floowing Id was not present and has succefully added 310384\n",
      "the floowing Id was not present and has succefully added 317901\n",
      "the floowing Id was not present and has succefully added 317902\n",
      "the floowing Id was not present and has succefully added 318730\n",
      "the floowing Id was not present and has succefully added 310343\n",
      "sorry the document is already there\n",
      "sorry the document is already there\n",
      "sorry the document is already there\n",
      "sorry the document is already there\n",
      "sorry the document is already there\n",
      "sorry the document is already there\n",
      "sorry the document is already there\n",
      "sorry the document is already there\n",
      "sorry the document is already there\n",
      "sorry the document is already there\n",
      "sorry the document is already there\n",
      "sorry the document is already there\n",
      "the floowing Id was not present and has succefully added 314142\n",
      "sorry the document is already there\n",
      "sorry the document is already there\n",
      "sorry the document is already there\n",
      "sorry the document is already there\n",
      "sorry the document is already there\n",
      "sorry the document is already there\n",
      "sorry the document is already there\n",
      "sorry the document is already there\n",
      "sorry the document is already there\n",
      "sorry the document is already there\n"
     ]
    }
   ],
   "source": [
    "# Combine the above steps to loop through the whole list of data contained in returned_data_list\n",
    "# only adding to the collection when the artifact does not yet exist in the database\n",
    "\n",
    "# Loop through returned_data_list\n",
    "\n",
    "    # Check if the artifact already exists in the collection\n",
    "    \n",
    "        # Insert the new data into the collection\n",
    "      \n",
    "        \n",
    "        \n",
    "        # Print objectID when inserted\n",
    "        \n",
    "              \n",
    "    # Optional: Print a statement if the object is in the database. \n",
    "for x in returned_data_list:\n",
    "    if artifacts.find_one({'objectID':x['objectID']})==None:\n",
    "        artifacts.insert_one(x)\n",
    "        print(\"the floowing Id was not present and has succefully added\",x['objectID'])\n",
    "    else:\n",
    "        print(\"sorry the document is already there\")\n",
    "        \n",
    "        "
   ]
  },
  {
   "cell_type": "markdown",
   "id": "95e41008",
   "metadata": {},
   "source": [
    "Data Source: [The Metropolitan Museum of Art](https://www.metmuseum.org/) (2022). The Metropolitan Museum of Art Collection API https://metmuseum.github.io/. Licenced under the [Creative Commons 0 Licence](https://creativecommons.org/publicdomain/zero/1.0/).<br />\n",
    "Accessed Oct 3, 2022. Data collected from departmentId=5 (\"Arts of Africa, Oceania, and the Americas\") and search string \"animal\"."
   ]
  },
  {
   "cell_type": "code",
   "execution_count": null,
   "id": "2e475b09",
   "metadata": {},
   "outputs": [],
   "source": []
  }
 ],
 "metadata": {
  "kernelspec": {
   "display_name": "PythonData",
   "language": "python",
   "name": "pythondata"
  },
  "language_info": {
   "codemirror_mode": {
    "name": "ipython",
    "version": 3
   },
   "file_extension": ".py",
   "mimetype": "text/x-python",
   "name": "python",
   "nbconvert_exporter": "python",
   "pygments_lexer": "ipython3",
   "version": "3.7.16"
  }
 },
 "nbformat": 4,
 "nbformat_minor": 5
}
